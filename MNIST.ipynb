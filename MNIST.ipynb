{
 "cells": [
  {
   "cell_type": "markdown",
   "metadata": {},
   "source": [
    "## Digit Identifiying Neural Network ##\n"
   ]
  },
  {
   "cell_type": "code",
   "execution_count": 1,
   "metadata": {},
   "outputs": [
    {
     "name": "stderr",
     "output_type": "stream",
     "text": [
      "Using TensorFlow backend.\n"
     ]
    }
   ],
   "source": [
    "import numpy as np\n",
    "import pandas as pd\n",
    "import seaborn as sns\n",
    "\n",
    "import keras\n",
    "from keras.datasets import mnist\n",
    "from keras.layers import Dense, Flatten, Dropout\n",
    "from keras.layers.convolutional import Conv2D\n",
    "from keras.models import Sequential\n",
    "from matplotlib import pyplot as plt\n",
    "\n",
    "from sklearn.metrics import confusion_matrix"
   ]
  },
  {
   "cell_type": "markdown",
   "metadata": {},
   "source": [
    "Visualization of Data (examples)"
   ]
  },
  {
   "cell_type": "code",
   "execution_count": 2,
   "metadata": {},
   "outputs": [
    {
     "data": {
      "image/png": "[encoded data removed]",
      "text/plain": [
       "<Figure size 432x288 with 25 Axes>"
      ]
     },
     "metadata": {
      "needs_background": "light"
     },
     "output_type": "display_data"
    }
   ],
   "source": [
    "(X_TRAIN, Y_TRAIN), (X_TEST, Y_TEST) = mnist.load_data()\n",
    "\n",
    "for i in range(25):\n",
    "    plt.subplot(5, 5, i+1)\n",
    "    plt.imshow(X_TRAIN[i], cmap=plt.get_cmap('gray'))\n",
    "    plt.axis('off')"
   ]
  },
  {
   "cell_type": "code",
   "execution_count": 3,
   "metadata": {},
   "outputs": [
    {
     "name": "stderr",
     "output_type": "stream",
     "text": [
      "/home/kat/anaconda3/envs/deepl/lib/python3.7/site-packages/ipykernel_launcher.py:3: RuntimeWarning: overflow encountered in exp\n",
      "  This is separate from the ipykernel package so we can avoid doing imports until\n"
     ]
    }
   ],
   "source": [
    "def sigmoid(x):\n",
    "    \"\"\" sigmoid function for normalization \"\"\"\n",
    "    return 1 / (1 + np.exp(-x))\n",
    "\n",
    "def prep(x, y):\n",
    "    \"\"\" data preperation from integer array to 4D shaped_array \"\"\"\n",
    "    out_y = keras.utils.to_categorical(y, 10)\n",
    "\n",
    "    shaped_array = x.reshape(-1, 28, 28, 1)\n",
    "    preped_x = sigmoid(shaped_array)\n",
    "    return preped_x, out_y\n",
    "\n",
    "X_T_PREP, Y_T_PREP = prep(X_TRAIN, Y_TRAIN)\n",
    "\n",
    "X_TEST_PREP, Y_TEST_PREP = prep(X_TEST, Y_TEST)"
   ]
  },
  {
   "cell_type": "markdown",
   "metadata": {},
   "source": [
    "### Building the Neural Network ###"
   ]
  },
  {
   "cell_type": "code",
   "execution_count": 5,
   "metadata": {},
   "outputs": [
    {
     "name": "stdout",
     "output_type": "stream",
     "text": [
      "Epoch 1/10\n",
      "60000/60000 [==============================] - 385s 6ms/step - loss: 0.2032 - acc: 0.9372\n",
      "Epoch 2/10\n",
      "60000/60000 [==============================] - 393s 7ms/step - loss: 0.0788 - acc: 0.9759\n",
      "Epoch 3/10\n",
      "60000/60000 [==============================] - 416s 7ms/step - loss: 0.0550 - acc: 0.9834\n",
      "Epoch 4/10\n",
      "60000/60000 [==============================] - 414s 7ms/step - loss: 0.0390 - acc: 0.9872\n",
      "Epoch 5/10\n",
      "60000/60000 [==============================] - 426s 7ms/step - loss: 0.0289 - acc: 0.9902\n",
      "Epoch 6/10\n",
      "60000/60000 [==============================] - 395s 7ms/step - loss: 0.0221 - acc: 0.9926\n",
      "Epoch 7/10\n",
      "60000/60000 [==============================] - 377s 6ms/step - loss: 0.0158 - acc: 0.9948\n",
      "Epoch 8/10\n",
      "60000/60000 [==============================] - 376s 6ms/step - loss: 0.0131 - acc: 0.9956\n",
      "Epoch 9/10\n",
      "60000/60000 [==============================] - 376s 6ms/step - loss: 0.0113 - acc: 0.9963\n",
      "Epoch 10/10\n",
      "60000/60000 [==============================] - 386s 6ms/step - loss: 0.0114 - acc: 0.9963\n"
     ]
    },
    {
     "data": {
      "text/plain": [
       "<keras.callbacks.History at 0x7f2733b5de80>"
      ]
     },
     "execution_count": 5,
     "metadata": {},
     "output_type": "execute_result"
    }
   ],
   "source": [
    "M = Sequential()\n",
    "M.add(Conv2D(100, kernel_size=(3, 3),\n",
    "             activation='relu',\n",
    "             data_format='channels_last',\n",
    "             input_shape=(28, 28, 1)))\n",
    "M.add(Conv2D(20, kernel_size=(3, 3),\n",
    "             activation='relu',\n",
    "             data_format='channels_last'))\n",
    "\n",
    "M.add(Flatten())\n",
    "M.add(Dense(50, activation='relu'))\n",
    "M.add(Dense(10, activation='softmax'))\n",
    "M.compile(loss='categorical_crossentropy',\n",
    "          optimizer='adam',\n",
    "          metrics=['accuracy'])\n",
    "M.fit(X_T_PREP, Y_T_PREP, epochs=10)"
   ]
  },
  {
   "cell_type": "code",
   "execution_count": 6,
   "metadata": {},
   "outputs": [
    {
     "name": "stdout",
     "output_type": "stream",
     "text": [
      "_________________________________________________________________\n",
      "Layer (type)                 Output Shape              Param #   \n",
      "=================================================================\n",
      "conv2d_3 (Conv2D)            (None, 26, 26, 100)       1000      \n",
      "_________________________________________________________________\n",
      "conv2d_4 (Conv2D)            (None, 24, 24, 20)        18020     \n",
      "_________________________________________________________________\n",
      "flatten_2 (Flatten)          (None, 11520)             0         \n",
      "_________________________________________________________________\n",
      "dense_3 (Dense)              (None, 50)                576050    \n",
      "_________________________________________________________________\n",
      "dense_4 (Dense)              (None, 10)                510       \n",
      "=================================================================\n",
      "Total params: 595,580\n",
      "Trainable params: 595,580\n",
      "Non-trainable params: 0\n",
      "_________________________________________________________________\n"
     ]
    }
   ],
   "source": [
    "M.summary()"
   ]
  },
  {
   "cell_type": "code",
   "execution_count": 139,
   "metadata": {},
   "outputs": [
    {
     "name": "stdout",
     "output_type": "stream",
     "text": [
      "10000/10000 [==============================] - 21s 2ms/step\n"
     ]
    },
    {
     "data": {
      "text/plain": [
       "[0.0872821976552932, 0.9814]"
      ]
     },
     "execution_count": 139,
     "metadata": {},
     "output_type": "execute_result"
    }
   ],
   "source": [
    "# model.evaluate(x=xte, y=yte)"
   ]
  },
  {
   "cell_type": "code",
   "execution_count": 29,
   "metadata": {},
   "outputs": [],
   "source": [
    "Y_PRED = M.predict_classes(X_TEST_PREP)"
   ]
  },
  {
   "cell_type": "markdown",
   "metadata": {},
   "source": [
    "### Confusion Matrix ###\n",
    "\n",
    "Visualizing Accuracy per digit"
   ]
  },
  {
   "cell_type": "code",
   "execution_count": 35,
   "metadata": {},
   "outputs": [
    {
     "data": {
      "text/plain": [
       "array([[ 976,    1,    1,    0,    0,    1,    0,    1,    0,    0],\n",
       "       [   2, 1125,    1,    2,    0,    0,    2,    1,    2,    0],\n",
       "       [   1,    2, 1021,    0,    0,    0,    0,    5,    2,    1],\n",
       "       [   0,    0,    3, 1000,    0,    3,    0,    0,    3,    1],\n",
       "       [   2,    0,    4,    1,  955,    0,    1,    0,    2,   17],\n",
       "       [   3,    0,    0,   14,    0,  870,    2,    0,    2,    1],\n",
       "       [   9,    3,    1,    0,    5,   10,  928,    0,    2,    0],\n",
       "       [   0,    1,    8,    2,    0,    0,    0, 1007,    3,    7],\n",
       "       [   5,    0,    1,   19,    3,    4,    0,    3,  934,    5],\n",
       "       [   2,    3,    0,    9,    4,    1,    0,    4,    1,  985]])"
      ]
     },
     "execution_count": 35,
     "metadata": {},
     "output_type": "execute_result"
    }
   ],
   "source": [
    "confusion_matrix(Y_TEST, Y_PRED)"
   ]
  },
  {
   "cell_type": "code",
   "execution_count": 58,
   "metadata": {},
   "outputs": [
    {
     "data": {
      "image/png": "[encoded data removed]",
      "text/plain": [
       "<Figure size 720x540 with 2 Axes>"
      ]
     },
     "metadata": {
      "needs_background": "light"
     },
     "output_type": "display_data"
    }
   ],
   "source": [
    "plt.figure(figsize=[10.0, 7.5])\n",
    "sns.heatmap(confusion_matrix(Y_TEST, Y_PRED))\n",
    "plt.show()"
   ]
  }
 ],
 "metadata": {
  "kernelspec": {
   "display_name": "Python 2",
   "language": "python",
   "name": "python2"
  },
  "language_info": {
   "codemirror_mode": {
    "name": "ipython",
    "version": 3
   },
   "file_extension": ".py",
   "mimetype": "text/x-python",
   "name": "python",
   "nbconvert_exporter": "python",
   "pygments_lexer": "ipython3",
   "version": "3.7.3"
  }
 },
 "nbformat": 4,
 "nbformat_minor": 2
}
